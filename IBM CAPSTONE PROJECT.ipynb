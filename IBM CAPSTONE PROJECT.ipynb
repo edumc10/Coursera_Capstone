{
    "cells": [
        {
            "cell_type": "markdown",
            "metadata": {
                "collapsed": true
            },
            "source": "# CAPSTONE PROJECT FOR DATA SCIENCE CERTIFICATE \n### This notebooks's author is Eduardo Mendoza and it will be used mainly for the capstone project of this certificate \n#### Running Python 3.6"
        },
        {
            "cell_type": "code",
            "execution_count": 1,
            "metadata": {},
            "outputs": [
                {
                    "name": "stdout",
                    "output_type": "stream",
                    "text": "Hellow Capstone Project Course\n"
                }
            ],
            "source": "import numpy as np\nimport pandas as pd\n\nprint(\"Hellow Capstone Project Course\")"
        },
        {
            "cell_type": "code",
            "execution_count": null,
            "metadata": {},
            "outputs": [],
            "source": ""
        }
    ],
    "metadata": {
        "kernelspec": {
            "display_name": "Python 3.6",
            "language": "python",
            "name": "python3"
        },
        "language_info": {
            "codemirror_mode": {
                "name": "ipython",
                "version": 3
            },
            "file_extension": ".py",
            "mimetype": "text/x-python",
            "name": "python",
            "nbconvert_exporter": "python",
            "pygments_lexer": "ipython3",
            "version": "3.6.9"
        }
    },
    "nbformat": 4,
    "nbformat_minor": 1
}